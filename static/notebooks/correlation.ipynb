{
 "cells": [
  {
   "cell_type": "markdown",
   "metadata": {},
   "source": [
    "# Correlation\n",
    "\n",
    "Julia code used to generate the plots for the correlation blog post."
   ]
  },
  {
   "cell_type": "code",
   "execution_count": 1,
   "metadata": {},
   "outputs": [
    {
     "name": "stderr",
     "output_type": "stream",
     "text": [
      "┌ Info: Recompiling stale cache file /home/rik/.julia/compiled/v1.0/Plots/ld3vC.ji for Plots [91a5bcdd-55d7-5caf-9e0b-520d859cae80]\n",
      "└ @ Base loading.jl:1190\n"
     ]
    }
   ],
   "source": [
    "using Plots\n",
    "using Statistics # Defines mean."
   ]
  },
  {
   "cell_type": "markdown",
   "metadata": {},
   "source": [
    "## Covariance"
   ]
  },
  {
   "cell_type": "markdown",
   "metadata": {},
   "source": [
    "Plots for covariance $ cov(X, Y) = E[(X - \\mu_X)(Y - \\mu_Y)]$"
   ]
  },
  {
   "cell_type": "code",
   "execution_count": 2,
   "metadata": {},
   "outputs": [
    {
     "name": "stdout",
     "output_type": "stream",
     "text": [
      "(A, B, C, D) = ([2, 3, 4, 5, 6, 7, 8], [3.5, 4.0, 4.5, 5.0, 5.5, 6.0, 6.5], [5, 5, 5, 5, 5, 5, 5], [8, 7, 6, 5, 4, 3, 2])\n"
     ]
    }
   ],
   "source": [
    "range = 1:7\n",
    "A = (x -> x + 1).(range)\n",
    "B = (x -> 0.5x + 3).(range)\n",
    "C = (x -> 5).(range)\n",
    "D = reverse(A)\n",
    "@show A, B, C, D;"
   ]
  },
  {
   "cell_type": "code",
   "execution_count": 3,
   "metadata": {},
   "outputs": [
    {
     "data": {
      "image/svg+xml": [
       "<?xml version=\"1.0\" encoding=\"utf-8\"?>\n",
       "<svg xmlns=\"http://www.w3.org/2000/svg\" xmlns:xlink=\"http://www.w3.org/1999/xlink\" width=\"600\" height=\"400\" viewBox=\"0 0 2400 1600\">\n",
       "<defs>\n",
       "  <clipPath id=\"clip7100\">\n",
       "    <rect x=\"0\" y=\"0\" width=\"2400\" height=\"1600\"/>\n",
       "  </clipPath>\n",
       "</defs>\n",
       "<path clip-path=\"url(#clip7100)\" d=\"\n",
       "M0 1600 L2400 1600 L2400 0 L0 0  Z\n",
       "  \" fill=\"#000000\" fill-rule=\"evenodd\" fill-opacity=\"0\"/>\n",
       "<defs>\n",
       "  <clipPath id=\"clip7101\">\n",
       "    <rect x=\"480\" y=\"0\" width=\"1681\" height=\"1600\"/>\n",
       "  </clipPath>\n",
       "</defs>\n",
       "<path clip-path=\"url(#clip7100)\" d=\"\n",
       "M113.754 1487.47 L2352.76 1487.47 L2352.76 47.2441 L113.754 47.2441  Z\n",
       "  \" fill=\"#000000\" fill-rule=\"evenodd\" fill-opacity=\"0\"/>\n",
       "<defs>\n",
       "  <clipPath id=\"clip7102\">\n",
       "    <rect x=\"113\" y=\"47\" width=\"2240\" height=\"1441\"/>\n",
       "  </clipPath>\n",
       "</defs>\n",
       "<polyline clip-path=\"url(#clip7102)\" style=\"stroke:#000000; stroke-width:2; stroke-opacity:0.1; fill:none\" points=\"\n",
       "  177.122,1487.47 177.122,47.2441 \n",
       "  \"/>\n",
       "<polyline clip-path=\"url(#clip7102)\" style=\"stroke:#000000; stroke-width:2; stroke-opacity:0.1; fill:none\" points=\"\n",
       "  529.167,1487.47 529.167,47.2441 \n",
       "  \"/>\n",
       "<polyline clip-path=\"url(#clip7102)\" style=\"stroke:#000000; stroke-width:2; stroke-opacity:0.1; fill:none\" points=\"\n",
       "  881.211,1487.47 881.211,47.2441 \n",
       "  \"/>\n",
       "<polyline clip-path=\"url(#clip7102)\" style=\"stroke:#000000; stroke-width:2; stroke-opacity:0.1; fill:none\" points=\"\n",
       "  1233.26,1487.47 1233.26,47.2441 \n",
       "  \"/>\n",
       "<polyline clip-path=\"url(#clip7102)\" style=\"stroke:#000000; stroke-width:2; stroke-opacity:0.1; fill:none\" points=\"\n",
       "  1585.3,1487.47 1585.3,47.2441 \n",
       "  \"/>\n",
       "<polyline clip-path=\"url(#clip7102)\" style=\"stroke:#000000; stroke-width:2; stroke-opacity:0.1; fill:none\" points=\"\n",
       "  1937.34,1487.47 1937.34,47.2441 \n",
       "  \"/>\n",
       "<polyline clip-path=\"url(#clip7102)\" style=\"stroke:#000000; stroke-width:2; stroke-opacity:0.1; fill:none\" points=\"\n",
       "  2289.39,1487.47 2289.39,47.2441 \n",
       "  \"/>\n",
       "<polyline clip-path=\"url(#clip7102)\" style=\"stroke:#000000; stroke-width:2; stroke-opacity:0.1; fill:none\" points=\"\n",
       "  113.754,1446.71 2352.76,1446.71 \n",
       "  \"/>\n",
       "<polyline clip-path=\"url(#clip7102)\" style=\"stroke:#000000; stroke-width:2; stroke-opacity:0.1; fill:none\" points=\"\n",
       "  113.754,1220.26 2352.76,1220.26 \n",
       "  \"/>\n",
       "<polyline clip-path=\"url(#clip7102)\" style=\"stroke:#000000; stroke-width:2; stroke-opacity:0.1; fill:none\" points=\"\n",
       "  113.754,993.811 2352.76,993.811 \n",
       "  \"/>\n",
       "<polyline clip-path=\"url(#clip7102)\" style=\"stroke:#000000; stroke-width:2; stroke-opacity:0.1; fill:none\" points=\"\n",
       "  113.754,767.359 2352.76,767.359 \n",
       "  \"/>\n",
       "<polyline clip-path=\"url(#clip7102)\" style=\"stroke:#000000; stroke-width:2; stroke-opacity:0.1; fill:none\" points=\"\n",
       "  113.754,540.908 2352.76,540.908 \n",
       "  \"/>\n",
       "<polyline clip-path=\"url(#clip7102)\" style=\"stroke:#000000; stroke-width:2; stroke-opacity:0.1; fill:none\" points=\"\n",
       "  113.754,314.457 2352.76,314.457 \n",
       "  \"/>\n",
       "<polyline clip-path=\"url(#clip7102)\" style=\"stroke:#000000; stroke-width:2; stroke-opacity:0.1; fill:none\" points=\"\n",
       "  113.754,88.0053 2352.76,88.0053 \n",
       "  \"/>\n",
       "<polyline clip-path=\"url(#clip7100)\" style=\"stroke:#000000; stroke-width:4; stroke-opacity:1; fill:none\" points=\"\n",
       "  113.754,1487.47 2352.76,1487.47 \n",
       "  \"/>\n",
       "<polyline clip-path=\"url(#clip7100)\" style=\"stroke:#000000; stroke-width:4; stroke-opacity:1; fill:none\" points=\"\n",
       "  113.754,1487.47 113.754,47.2441 \n",
       "  \"/>\n",
       "<polyline clip-path=\"url(#clip7100)\" style=\"stroke:#000000; stroke-width:4; stroke-opacity:1; fill:none\" points=\"\n",
       "  177.122,1487.47 177.122,1470.19 \n",
       "  \"/>\n",
       "<polyline clip-path=\"url(#clip7100)\" style=\"stroke:#000000; stroke-width:4; stroke-opacity:1; fill:none\" points=\"\n",
       "  529.167,1487.47 529.167,1470.19 \n",
       "  \"/>\n",
       "<polyline clip-path=\"url(#clip7100)\" style=\"stroke:#000000; stroke-width:4; stroke-opacity:1; fill:none\" points=\"\n",
       "  881.211,1487.47 881.211,1470.19 \n",
       "  \"/>\n",
       "<polyline clip-path=\"url(#clip7100)\" style=\"stroke:#000000; stroke-width:4; stroke-opacity:1; fill:none\" points=\"\n",
       "  1233.26,1487.47 1233.26,1470.19 \n",
       "  \"/>\n",
       "<polyline clip-path=\"url(#clip7100)\" style=\"stroke:#000000; stroke-width:4; stroke-opacity:1; fill:none\" points=\"\n",
       "  1585.3,1487.47 1585.3,1470.19 \n",
       "  \"/>\n",
       "<polyline clip-path=\"url(#clip7100)\" style=\"stroke:#000000; stroke-width:4; stroke-opacity:1; fill:none\" points=\"\n",
       "  1937.34,1487.47 1937.34,1470.19 \n",
       "  \"/>\n",
       "<polyline clip-path=\"url(#clip7100)\" style=\"stroke:#000000; stroke-width:4; stroke-opacity:1; fill:none\" points=\"\n",
       "  2289.39,1487.47 2289.39,1470.19 \n",
       "  \"/>\n",
       "<polyline clip-path=\"url(#clip7100)\" style=\"stroke:#000000; stroke-width:4; stroke-opacity:1; fill:none\" points=\"\n",
       "  113.754,1446.71 140.622,1446.71 \n",
       "  \"/>\n",
       "<polyline clip-path=\"url(#clip7100)\" style=\"stroke:#000000; stroke-width:4; stroke-opacity:1; fill:none\" points=\"\n",
       "  113.754,1220.26 140.622,1220.26 \n",
       "  \"/>\n",
       "<polyline clip-path=\"url(#clip7100)\" style=\"stroke:#000000; stroke-width:4; stroke-opacity:1; fill:none\" points=\"\n",
       "  113.754,993.811 140.622,993.811 \n",
       "  \"/>\n",
       "<polyline clip-path=\"url(#clip7100)\" style=\"stroke:#000000; stroke-width:4; stroke-opacity:1; fill:none\" points=\"\n",
       "  113.754,767.359 140.622,767.359 \n",
       "  \"/>\n",
       "<polyline clip-path=\"url(#clip7100)\" style=\"stroke:#000000; stroke-width:4; stroke-opacity:1; fill:none\" points=\"\n",
       "  113.754,540.908 140.622,540.908 \n",
       "  \"/>\n",
       "<polyline clip-path=\"url(#clip7100)\" style=\"stroke:#000000; stroke-width:4; stroke-opacity:1; fill:none\" points=\"\n",
       "  113.754,314.457 140.622,314.457 \n",
       "  \"/>\n",
       "<polyline clip-path=\"url(#clip7100)\" style=\"stroke:#000000; stroke-width:4; stroke-opacity:1; fill:none\" points=\"\n",
       "  113.754,88.0053 140.622,88.0053 \n",
       "  \"/>\n",
       "<g clip-path=\"url(#clip7100)\">\n",
       "<text style=\"fill:#000000; fill-opacity:1; font-family:Arial,Helvetica Neue,Helvetica,sans-serif; font-size:48px; text-anchor:middle;\" transform=\"rotate(0, 177.122, 1541.47)\" x=\"177.122\" y=\"1541.47\">1</text>\n",
       "</g>\n",
       "<g clip-path=\"url(#clip7100)\">\n",
       "<text style=\"fill:#000000; fill-opacity:1; font-family:Arial,Helvetica Neue,Helvetica,sans-serif; font-size:48px; text-anchor:middle;\" transform=\"rotate(0, 529.167, 1541.47)\" x=\"529.167\" y=\"1541.47\">2</text>\n",
       "</g>\n",
       "<g clip-path=\"url(#clip7100)\">\n",
       "<text style=\"fill:#000000; fill-opacity:1; font-family:Arial,Helvetica Neue,Helvetica,sans-serif; font-size:48px; text-anchor:middle;\" transform=\"rotate(0, 881.211, 1541.47)\" x=\"881.211\" y=\"1541.47\">3</text>\n",
       "</g>\n",
       "<g clip-path=\"url(#clip7100)\">\n",
       "<text style=\"fill:#000000; fill-opacity:1; font-family:Arial,Helvetica Neue,Helvetica,sans-serif; font-size:48px; text-anchor:middle;\" transform=\"rotate(0, 1233.26, 1541.47)\" x=\"1233.26\" y=\"1541.47\">4</text>\n",
       "</g>\n",
       "<g clip-path=\"url(#clip7100)\">\n",
       "<text style=\"fill:#000000; fill-opacity:1; font-family:Arial,Helvetica Neue,Helvetica,sans-serif; font-size:48px; text-anchor:middle;\" transform=\"rotate(0, 1585.3, 1541.47)\" x=\"1585.3\" y=\"1541.47\">5</text>\n",
       "</g>\n",
       "<g clip-path=\"url(#clip7100)\">\n",
       "<text style=\"fill:#000000; fill-opacity:1; font-family:Arial,Helvetica Neue,Helvetica,sans-serif; font-size:48px; text-anchor:middle;\" transform=\"rotate(0, 1937.34, 1541.47)\" x=\"1937.34\" y=\"1541.47\">6</text>\n",
       "</g>\n",
       "<g clip-path=\"url(#clip7100)\">\n",
       "<text style=\"fill:#000000; fill-opacity:1; font-family:Arial,Helvetica Neue,Helvetica,sans-serif; font-size:48px; text-anchor:middle;\" transform=\"rotate(0, 2289.39, 1541.47)\" x=\"2289.39\" y=\"1541.47\">7</text>\n",
       "</g>\n",
       "<g clip-path=\"url(#clip7100)\">\n",
       "<text style=\"fill:#000000; fill-opacity:1; font-family:Arial,Helvetica Neue,Helvetica,sans-serif; font-size:48px; text-anchor:end;\" transform=\"rotate(0, 89.7545, 1464.21)\" x=\"89.7545\" y=\"1464.21\">2</text>\n",
       "</g>\n",
       "<g clip-path=\"url(#clip7100)\">\n",
       "<text style=\"fill:#000000; fill-opacity:1; font-family:Arial,Helvetica Neue,Helvetica,sans-serif; font-size:48px; text-anchor:end;\" transform=\"rotate(0, 89.7545, 1237.76)\" x=\"89.7545\" y=\"1237.76\">3</text>\n",
       "</g>\n",
       "<g clip-path=\"url(#clip7100)\">\n",
       "<text style=\"fill:#000000; fill-opacity:1; font-family:Arial,Helvetica Neue,Helvetica,sans-serif; font-size:48px; text-anchor:end;\" transform=\"rotate(0, 89.7545, 1011.31)\" x=\"89.7545\" y=\"1011.31\">4</text>\n",
       "</g>\n",
       "<g clip-path=\"url(#clip7100)\">\n",
       "<text style=\"fill:#000000; fill-opacity:1; font-family:Arial,Helvetica Neue,Helvetica,sans-serif; font-size:48px; text-anchor:end;\" transform=\"rotate(0, 89.7545, 784.859)\" x=\"89.7545\" y=\"784.859\">5</text>\n",
       "</g>\n",
       "<g clip-path=\"url(#clip7100)\">\n",
       "<text style=\"fill:#000000; fill-opacity:1; font-family:Arial,Helvetica Neue,Helvetica,sans-serif; font-size:48px; text-anchor:end;\" transform=\"rotate(0, 89.7545, 558.408)\" x=\"89.7545\" y=\"558.408\">6</text>\n",
       "</g>\n",
       "<g clip-path=\"url(#clip7100)\">\n",
       "<text style=\"fill:#000000; fill-opacity:1; font-family:Arial,Helvetica Neue,Helvetica,sans-serif; font-size:48px; text-anchor:end;\" transform=\"rotate(0, 89.7545, 331.957)\" x=\"89.7545\" y=\"331.957\">7</text>\n",
       "</g>\n",
       "<g clip-path=\"url(#clip7100)\">\n",
       "<text style=\"fill:#000000; fill-opacity:1; font-family:Arial,Helvetica Neue,Helvetica,sans-serif; font-size:48px; text-anchor:end;\" transform=\"rotate(0, 89.7545, 105.505)\" x=\"89.7545\" y=\"105.505\">8</text>\n",
       "</g>\n",
       "<circle clip-path=\"url(#clip7102)\" style=\"fill:#000000; stroke:none; fill-opacity:1\" cx=\"177.122\" cy=\"1446.71\" r=\"18\"/>\n",
       "<circle clip-path=\"url(#clip7102)\" style=\"fill:#14d0ff; stroke:none; fill-opacity:1\" cx=\"177.122\" cy=\"1446.71\" r=\"14\"/>\n",
       "<circle clip-path=\"url(#clip7102)\" style=\"fill:#000000; stroke:none; fill-opacity:1\" cx=\"529.167\" cy=\"1220.26\" r=\"18\"/>\n",
       "<circle clip-path=\"url(#clip7102)\" style=\"fill:#14d0ff; stroke:none; fill-opacity:1\" cx=\"529.167\" cy=\"1220.26\" r=\"14\"/>\n",
       "<circle clip-path=\"url(#clip7102)\" style=\"fill:#000000; stroke:none; fill-opacity:1\" cx=\"881.211\" cy=\"993.811\" r=\"18\"/>\n",
       "<circle clip-path=\"url(#clip7102)\" style=\"fill:#14d0ff; stroke:none; fill-opacity:1\" cx=\"881.211\" cy=\"993.811\" r=\"14\"/>\n",
       "<circle clip-path=\"url(#clip7102)\" style=\"fill:#000000; stroke:none; fill-opacity:1\" cx=\"1233.26\" cy=\"767.359\" r=\"18\"/>\n",
       "<circle clip-path=\"url(#clip7102)\" style=\"fill:#14d0ff; stroke:none; fill-opacity:1\" cx=\"1233.26\" cy=\"767.359\" r=\"14\"/>\n",
       "<circle clip-path=\"url(#clip7102)\" style=\"fill:#000000; stroke:none; fill-opacity:1\" cx=\"1585.3\" cy=\"540.908\" r=\"18\"/>\n",
       "<circle clip-path=\"url(#clip7102)\" style=\"fill:#14d0ff; stroke:none; fill-opacity:1\" cx=\"1585.3\" cy=\"540.908\" r=\"14\"/>\n",
       "<circle clip-path=\"url(#clip7102)\" style=\"fill:#000000; stroke:none; fill-opacity:1\" cx=\"1937.34\" cy=\"314.457\" r=\"18\"/>\n",
       "<circle clip-path=\"url(#clip7102)\" style=\"fill:#14d0ff; stroke:none; fill-opacity:1\" cx=\"1937.34\" cy=\"314.457\" r=\"14\"/>\n",
       "<circle clip-path=\"url(#clip7102)\" style=\"fill:#000000; stroke:none; fill-opacity:1\" cx=\"2289.39\" cy=\"88.0053\" r=\"18\"/>\n",
       "<circle clip-path=\"url(#clip7102)\" style=\"fill:#14d0ff; stroke:none; fill-opacity:1\" cx=\"2289.39\" cy=\"88.0053\" r=\"14\"/>\n",
       "<circle clip-path=\"url(#clip7102)\" style=\"fill:#000000; stroke:none; fill-opacity:1\" cx=\"177.122\" cy=\"1107.04\" r=\"18\"/>\n",
       "<circle clip-path=\"url(#clip7102)\" style=\"fill:#ffa478; stroke:none; fill-opacity:1\" cx=\"177.122\" cy=\"1107.04\" r=\"14\"/>\n",
       "<circle clip-path=\"url(#clip7102)\" style=\"fill:#000000; stroke:none; fill-opacity:1\" cx=\"529.167\" cy=\"993.811\" r=\"18\"/>\n",
       "<circle clip-path=\"url(#clip7102)\" style=\"fill:#ffa478; stroke:none; fill-opacity:1\" cx=\"529.167\" cy=\"993.811\" r=\"14\"/>\n",
       "<circle clip-path=\"url(#clip7102)\" style=\"fill:#000000; stroke:none; fill-opacity:1\" cx=\"881.211\" cy=\"880.585\" r=\"18\"/>\n",
       "<circle clip-path=\"url(#clip7102)\" style=\"fill:#ffa478; stroke:none; fill-opacity:1\" cx=\"881.211\" cy=\"880.585\" r=\"14\"/>\n",
       "<circle clip-path=\"url(#clip7102)\" style=\"fill:#000000; stroke:none; fill-opacity:1\" cx=\"1233.26\" cy=\"767.359\" r=\"18\"/>\n",
       "<circle clip-path=\"url(#clip7102)\" style=\"fill:#ffa478; stroke:none; fill-opacity:1\" cx=\"1233.26\" cy=\"767.359\" r=\"14\"/>\n",
       "<circle clip-path=\"url(#clip7102)\" style=\"fill:#000000; stroke:none; fill-opacity:1\" cx=\"1585.3\" cy=\"654.134\" r=\"18\"/>\n",
       "<circle clip-path=\"url(#clip7102)\" style=\"fill:#ffa478; stroke:none; fill-opacity:1\" cx=\"1585.3\" cy=\"654.134\" r=\"14\"/>\n",
       "<circle clip-path=\"url(#clip7102)\" style=\"fill:#000000; stroke:none; fill-opacity:1\" cx=\"1937.34\" cy=\"540.908\" r=\"18\"/>\n",
       "<circle clip-path=\"url(#clip7102)\" style=\"fill:#ffa478; stroke:none; fill-opacity:1\" cx=\"1937.34\" cy=\"540.908\" r=\"14\"/>\n",
       "<circle clip-path=\"url(#clip7102)\" style=\"fill:#000000; stroke:none; fill-opacity:1\" cx=\"2289.39\" cy=\"427.682\" r=\"18\"/>\n",
       "<circle clip-path=\"url(#clip7102)\" style=\"fill:#ffa478; stroke:none; fill-opacity:1\" cx=\"2289.39\" cy=\"427.682\" r=\"14\"/>\n",
       "<circle clip-path=\"url(#clip7102)\" style=\"fill:#000000; stroke:none; fill-opacity:1\" cx=\"177.122\" cy=\"767.359\" r=\"18\"/>\n",
       "<circle clip-path=\"url(#clip7102)\" style=\"fill:#a2d566; stroke:none; fill-opacity:1\" cx=\"177.122\" cy=\"767.359\" r=\"14\"/>\n",
       "<circle clip-path=\"url(#clip7102)\" style=\"fill:#000000; stroke:none; fill-opacity:1\" cx=\"529.167\" cy=\"767.359\" r=\"18\"/>\n",
       "<circle clip-path=\"url(#clip7102)\" style=\"fill:#a2d566; stroke:none; fill-opacity:1\" cx=\"529.167\" cy=\"767.359\" r=\"14\"/>\n",
       "<circle clip-path=\"url(#clip7102)\" style=\"fill:#000000; stroke:none; fill-opacity:1\" cx=\"881.211\" cy=\"767.359\" r=\"18\"/>\n",
       "<circle clip-path=\"url(#clip7102)\" style=\"fill:#a2d566; stroke:none; fill-opacity:1\" cx=\"881.211\" cy=\"767.359\" r=\"14\"/>\n",
       "<circle clip-path=\"url(#clip7102)\" style=\"fill:#000000; stroke:none; fill-opacity:1\" cx=\"1233.26\" cy=\"767.359\" r=\"18\"/>\n",
       "<circle clip-path=\"url(#clip7102)\" style=\"fill:#a2d566; stroke:none; fill-opacity:1\" cx=\"1233.26\" cy=\"767.359\" r=\"14\"/>\n",
       "<circle clip-path=\"url(#clip7102)\" style=\"fill:#000000; stroke:none; fill-opacity:1\" cx=\"1585.3\" cy=\"767.359\" r=\"18\"/>\n",
       "<circle clip-path=\"url(#clip7102)\" style=\"fill:#a2d566; stroke:none; fill-opacity:1\" cx=\"1585.3\" cy=\"767.359\" r=\"14\"/>\n",
       "<circle clip-path=\"url(#clip7102)\" style=\"fill:#000000; stroke:none; fill-opacity:1\" cx=\"1937.34\" cy=\"767.359\" r=\"18\"/>\n",
       "<circle clip-path=\"url(#clip7102)\" style=\"fill:#a2d566; stroke:none; fill-opacity:1\" cx=\"1937.34\" cy=\"767.359\" r=\"14\"/>\n",
       "<circle clip-path=\"url(#clip7102)\" style=\"fill:#000000; stroke:none; fill-opacity:1\" cx=\"2289.39\" cy=\"767.359\" r=\"18\"/>\n",
       "<circle clip-path=\"url(#clip7102)\" style=\"fill:#a2d566; stroke:none; fill-opacity:1\" cx=\"2289.39\" cy=\"767.359\" r=\"14\"/>\n",
       "<circle clip-path=\"url(#clip7102)\" style=\"fill:#000000; stroke:none; fill-opacity:1\" cx=\"177.122\" cy=\"88.0053\" r=\"18\"/>\n",
       "<circle clip-path=\"url(#clip7102)\" style=\"fill:#fda7fe; stroke:none; fill-opacity:1\" cx=\"177.122\" cy=\"88.0053\" r=\"14\"/>\n",
       "<circle clip-path=\"url(#clip7102)\" style=\"fill:#000000; stroke:none; fill-opacity:1\" cx=\"529.167\" cy=\"314.457\" r=\"18\"/>\n",
       "<circle clip-path=\"url(#clip7102)\" style=\"fill:#fda7fe; stroke:none; fill-opacity:1\" cx=\"529.167\" cy=\"314.457\" r=\"14\"/>\n",
       "<circle clip-path=\"url(#clip7102)\" style=\"fill:#000000; stroke:none; fill-opacity:1\" cx=\"881.211\" cy=\"540.908\" r=\"18\"/>\n",
       "<circle clip-path=\"url(#clip7102)\" style=\"fill:#fda7fe; stroke:none; fill-opacity:1\" cx=\"881.211\" cy=\"540.908\" r=\"14\"/>\n",
       "<circle clip-path=\"url(#clip7102)\" style=\"fill:#000000; stroke:none; fill-opacity:1\" cx=\"1233.26\" cy=\"767.359\" r=\"18\"/>\n",
       "<circle clip-path=\"url(#clip7102)\" style=\"fill:#fda7fe; stroke:none; fill-opacity:1\" cx=\"1233.26\" cy=\"767.359\" r=\"14\"/>\n",
       "<circle clip-path=\"url(#clip7102)\" style=\"fill:#000000; stroke:none; fill-opacity:1\" cx=\"1585.3\" cy=\"993.811\" r=\"18\"/>\n",
       "<circle clip-path=\"url(#clip7102)\" style=\"fill:#fda7fe; stroke:none; fill-opacity:1\" cx=\"1585.3\" cy=\"993.811\" r=\"14\"/>\n",
       "<circle clip-path=\"url(#clip7102)\" style=\"fill:#000000; stroke:none; fill-opacity:1\" cx=\"1937.34\" cy=\"1220.26\" r=\"18\"/>\n",
       "<circle clip-path=\"url(#clip7102)\" style=\"fill:#fda7fe; stroke:none; fill-opacity:1\" cx=\"1937.34\" cy=\"1220.26\" r=\"14\"/>\n",
       "<circle clip-path=\"url(#clip7102)\" style=\"fill:#000000; stroke:none; fill-opacity:1\" cx=\"2289.39\" cy=\"1446.71\" r=\"18\"/>\n",
       "<circle clip-path=\"url(#clip7102)\" style=\"fill:#fda7fe; stroke:none; fill-opacity:1\" cx=\"2289.39\" cy=\"1446.71\" r=\"14\"/>\n",
       "<path clip-path=\"url(#clip7100)\" d=\"\n",
       "M2006 433.164 L2280.76 433.164 L2280.76 130.764 L2006 130.764  Z\n",
       "  \" fill=\"#000000\" fill-rule=\"evenodd\" fill-opacity=\"0\"/>\n",
       "<polyline clip-path=\"url(#clip7100)\" style=\"stroke:#000000; stroke-width:4; stroke-opacity:1; fill:none\" points=\"\n",
       "  2006,433.164 2280.76,433.164 2280.76,130.764 2006,130.764 2006,433.164 \n",
       "  \"/>\n",
       "<circle clip-path=\"url(#clip7100)\" style=\"fill:#000000; stroke:none; fill-opacity:1\" cx=\"2114\" cy=\"191.244\" r=\"25\"/>\n",
       "<circle clip-path=\"url(#clip7100)\" style=\"fill:#14d0ff; stroke:none; fill-opacity:1\" cx=\"2114\" cy=\"191.244\" r=\"21\"/>\n",
       "<g clip-path=\"url(#clip7100)\">\n",
       "<text style=\"fill:#000000; fill-opacity:1; font-family:Arial,Helvetica Neue,Helvetica,sans-serif; font-size:48px; text-anchor:start;\" transform=\"rotate(0, 2198, 208.744)\" x=\"2198\" y=\"208.744\">A</text>\n",
       "</g>\n",
       "<circle clip-path=\"url(#clip7100)\" style=\"fill:#000000; stroke:none; fill-opacity:1\" cx=\"2114\" cy=\"251.724\" r=\"25\"/>\n",
       "<circle clip-path=\"url(#clip7100)\" style=\"fill:#ffa478; stroke:none; fill-opacity:1\" cx=\"2114\" cy=\"251.724\" r=\"21\"/>\n",
       "<g clip-path=\"url(#clip7100)\">\n",
       "<text style=\"fill:#000000; fill-opacity:1; font-family:Arial,Helvetica Neue,Helvetica,sans-serif; font-size:48px; text-anchor:start;\" transform=\"rotate(0, 2198, 269.224)\" x=\"2198\" y=\"269.224\">B</text>\n",
       "</g>\n",
       "<circle clip-path=\"url(#clip7100)\" style=\"fill:#000000; stroke:none; fill-opacity:1\" cx=\"2114\" cy=\"312.204\" r=\"25\"/>\n",
       "<circle clip-path=\"url(#clip7100)\" style=\"fill:#a2d566; stroke:none; fill-opacity:1\" cx=\"2114\" cy=\"312.204\" r=\"21\"/>\n",
       "<g clip-path=\"url(#clip7100)\">\n",
       "<text style=\"fill:#000000; fill-opacity:1; font-family:Arial,Helvetica Neue,Helvetica,sans-serif; font-size:48px; text-anchor:start;\" transform=\"rotate(0, 2198, 329.704)\" x=\"2198\" y=\"329.704\">C</text>\n",
       "</g>\n",
       "<circle clip-path=\"url(#clip7100)\" style=\"fill:#000000; stroke:none; fill-opacity:1\" cx=\"2114\" cy=\"372.684\" r=\"25\"/>\n",
       "<circle clip-path=\"url(#clip7100)\" style=\"fill:#fda7fe; stroke:none; fill-opacity:1\" cx=\"2114\" cy=\"372.684\" r=\"21\"/>\n",
       "<g clip-path=\"url(#clip7100)\">\n",
       "<text style=\"fill:#000000; fill-opacity:1; font-family:Arial,Helvetica Neue,Helvetica,sans-serif; font-size:48px; text-anchor:start;\" transform=\"rotate(0, 2198, 390.184)\" x=\"2198\" y=\"390.184\">D</text>\n",
       "</g>\n",
       "</svg>\n"
      ]
     },
     "execution_count": 3,
     "metadata": {},
     "output_type": "execute_result"
    }
   ],
   "source": [
    "plot(range, [A, B, C, D], seriestype=:scatter, label=[\"A\" \"B\" \"C\" \"D\"], lw=3, background_color=:transparent, foreground_color=:black)"
   ]
  },
  {
   "cell_type": "code",
   "execution_count": 4,
   "metadata": {},
   "outputs": [],
   "source": [
    "savefig(\"correlation.svg\")"
   ]
  },
  {
   "cell_type": "code",
   "execution_count": 5,
   "metadata": {},
   "outputs": [
    {
     "data": {
      "text/plain": [
       "mycov (generic function with 1 method)"
      ]
     },
     "execution_count": 5,
     "metadata": {},
     "output_type": "execute_result"
    }
   ],
   "source": [
    "# Note that unlike the Julia built-in function this function does not apply Bessel's correction.\n",
    "function mycov(X, Y)\n",
    "    min_mean_x(x)::Float64 = x - mean(X)\n",
    "    min_mean_y(y)::Float64 = y - mean(Y)\n",
    "    \n",
    "    mean(min_mean_x.(X) .* min_mean_y.(Y))\n",
    "end"
   ]
  },
  {
   "cell_type": "code",
   "execution_count": 6,
   "metadata": {},
   "outputs": [
    {
     "data": {
      "text/plain": [
       "4.0"
      ]
     },
     "execution_count": 6,
     "metadata": {},
     "output_type": "execute_result"
    }
   ],
   "source": [
    "mycov(A, A)"
   ]
  },
  {
   "cell_type": "code",
   "execution_count": 7,
   "metadata": {},
   "outputs": [
    {
     "data": {
      "text/plain": [
       "2.0"
      ]
     },
     "execution_count": 7,
     "metadata": {},
     "output_type": "execute_result"
    }
   ],
   "source": [
    "mycov(A, B)"
   ]
  },
  {
   "cell_type": "code",
   "execution_count": 8,
   "metadata": {},
   "outputs": [
    {
     "data": {
      "text/plain": [
       "0.0"
      ]
     },
     "execution_count": 8,
     "metadata": {},
     "output_type": "execute_result"
    }
   ],
   "source": [
    "mycov(A, C)"
   ]
  },
  {
   "cell_type": "code",
   "execution_count": 9,
   "metadata": {},
   "outputs": [
    {
     "data": {
      "text/plain": [
       "-4.0"
      ]
     },
     "execution_count": 9,
     "metadata": {},
     "output_type": "execute_result"
    }
   ],
   "source": [
    "mycov(A, D)"
   ]
  }
 ],
 "metadata": {
  "kernelspec": {
   "display_name": "Julia 1.0.4",
   "language": "julia",
   "name": "julia-1.0"
  },
  "language_info": {
   "file_extension": ".jl",
   "mimetype": "application/julia",
   "name": "julia",
   "version": "1.0.4"
  }
 },
 "nbformat": 4,
 "nbformat_minor": 2
}
